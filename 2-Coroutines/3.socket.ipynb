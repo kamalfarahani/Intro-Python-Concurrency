{
 "cells": [
  {
   "cell_type": "markdown",
   "id": "d250b435-8f9b-4e1a-b71e-84d8a91b0b1a",
   "metadata": {},
   "source": [
    "## What is a socket\n",
    "\n",
    "A **socket** is a software endpoint that enables two programs to communicate with each other over a network. Think of it as one end of a two-way communication link between two programs running on the network.\n",
    "\n",
    "A socket is defined by the combination of an **IP address** and a **port number**.\n",
    "\n",
    "* **IP Address**: This is the unique address of a computer on a network. It's like the street address of an apartment building.\n",
    "* **Port Number**: This is a number that identifies a specific application or process running on that computer. It's like the apartment number within the building.\n",
    "\n",
    "Together, the IP address and port number create a unique destination for network traffic, allowing data to be sent to the correct computer and the correct application on that computer. \n",
    "\n",
    "***\n",
    "\n",
    "## The Client-Server Model\n",
    "\n",
    "Sockets are most commonly used in the **client-server model** of computing.\n",
    "\n",
    "1.  **The Server**: A server program creates a socket on a specific port and *listens* for incoming connection requests from clients. It's like a customer service center waiting for phone calls on its dedicated phone number.\n",
    "2.  **The Client**: A client program knows the server's IP address and the port it's listening on. The client creates its own socket and uses it to *connect* to the server.\n",
    "3.  **Communication**: Once the connection is established, both the client and server can use their sockets to send and receive data, just like two people talking on the phone after the call has been connected.\n",
    "\n",
    "\n",
    "\n",
    "***\n",
    "\n",
    "## Types of Sockets\n",
    "\n",
    "There are two main types of sockets, corresponding to the two main transport layer protocols on the internet:\n",
    "\n",
    "### TCP Sockets (Stream Sockets)\n",
    "TCP stands for **Transmission Control Protocol**. This type of socket provides a reliable, ordered, and error-checked stream of data.\n",
    "\n",
    "* **Analogy**: A phone call. You establish a connection before you speak, and the words you say arrive in the same order you said them. If something is unclear, you can ask the other person to repeat it.\n",
    "* **Use Cases**: Web browsing (HTTP/HTTPS), file transfers (FTP), and email (SMTP), where it's crucial that all data arrives correctly and in the right sequence.\n",
    "\n",
    "### UDP Sockets (Datagram Sockets)\n",
    "UDP stands for **User Datagram Protocol**. This type is connectionless, meaning you can send data packets (datagrams) without first establishing a connection. It's faster but less reliable.\n",
    "\n",
    "* **Analogy**: Sending a postcard. You just send it off without knowing for sure if it will arrive, when it will arrive, or in what order relative to other postcards you might send.\n",
    "* **Use Cases**: Video streaming, online gaming, and DNS lookups, where speed is more important than perfect reliability, and losing a single packet of data isn't a critical failure.\n",
    "\n",
    "> **Note**: Sockets are a low-level concept and are fairly easy to understand if you think of them as mailboxes. You can put a letter in your mailbox that your letter carrier then picks up and delivers to the recipient’s mailbox. The recipient opens their mailbox and your letter. Depending on the contents, the recipient may send you a letter back.\n",
    "\n",
    "\n",
    "<img src=\"./pics/socket.png\"  width=\"800\" height=\"500\">"
   ]
  },
  {
   "cell_type": "markdown",
   "id": "759a3455-7ef7-4652-a66e-8ac227956697",
   "metadata": {},
   "source": [
    "### Example: A client/server app with sockets\n",
    "\n",
    "Building a simple server involves a few key steps:\n",
    "\n",
    "1.  **Create** a socket object.\n",
    "2.  **Bind** the socket to an address (a host IP and a port number).\n",
    "3.  **Listen** for incoming connections.\n",
    "4.  **Accept** a new connection when a client connects.\n",
    "5.  **Communicate** with the client (send and receive data).\n",
    "\n",
    "Let's start with step 1. We need to import Python's `socket` library and then create a socket.\n",
    "\n",
    "```python\n",
    "import socket\n",
    "\n",
    "# Create a TCP/IP socket\n",
    "server_socket = socket.socket(socket.AF_INET, socket.SOCK_STREAM) \n",
    "```\n",
    "\n",
    "This line creates a new socket object. `AF_INET` means we're using a standard IPv4 address, and `SOCK_STREAM` tells us it's a TCP socket (the reliable, phone-call-like one).\n",
    "\n",
    "***\n",
    "\n",
    "Now that we have a socket, we need to tell it which address and port to operate on. This is called **binding**.\n",
    "\n",
    "What do you think we should use for the IP address if we want the server to run just on our own machine for testing? (Hint: there's a special name for this)."
   ]
  },
  {
   "cell_type": "code",
   "execution_count": null,
   "id": "6050108f-f784-4b70-986e-5e5443ce7d9c",
   "metadata": {},
   "outputs": [],
   "source": []
  }
 ],
 "metadata": {
  "kernelspec": {
   "display_name": "Python 3 (ipykernel)",
   "language": "python",
   "name": "python3"
  },
  "language_info": {
   "codemirror_mode": {
    "name": "ipython",
    "version": 3
   },
   "file_extension": ".py",
   "mimetype": "text/x-python",
   "name": "python",
   "nbconvert_exporter": "python",
   "pygments_lexer": "ipython3",
   "version": "3.11.13"
  }
 },
 "nbformat": 4,
 "nbformat_minor": 5
}
