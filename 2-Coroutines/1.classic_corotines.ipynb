{
 "cells": [
  {
   "cell_type": "markdown",
   "id": "7e743f7b-e24b-4384-b4b5-07ab4d5a3f05",
   "metadata": {},
   "source": [
    "## Classic Coroutines\n",
    "\n",
    "Classic coroutines in Python refer to an older style of coroutine implementation that was available prior to the introduction of native coroutines in Python 3.5. Classic coroutines were implemented using generator functions and the `yield` keyword.\n",
    "\n",
    "In the context of Python, coroutines are a way to write functions that can be suspended and resumed later while maintaining their internal state. This allows for cooperative multitasking, where different coroutines can take turns executing and potentially interleave their operations.\n",
    "\n",
    "To create a classic coroutine, you define a generator function using the `def` keyword, and within the function, you use the `yield` keyword to suspend execution and produce a value. The generator function becomes a coroutine by calling it and obtaining a generator object.\n",
    "\n",
    "Here's an example of a classic coroutine that counts from 1 to 3:\n",
    "\n",
    "```python\n",
    "def counter():\n",
    "    i = 1\n",
    "    while True:\n",
    "        yield i\n",
    "        i += 1\n",
    "\n",
    "# Create a coroutine\n",
    "coro = counter()\n",
    "\n",
    "# Print the values produced by the coroutine\n",
    "print(next(coro))  # 1\n",
    "print(next(coro))  # 2\n",
    "print(next(coro))  # 3\n",
    "```\n",
    "\n",
    "In this example, the `counter` function is a classic coroutine because it uses the `yield` keyword. When `coro` is created by calling `counter()`, it returns a generator object. By calling `next(coro)`, we can advance the coroutine's execution and obtain the values it produces.\n",
    "\n",
    "Classic coroutines can also receive values from the caller using the `send` method. By doing so, the value sent becomes the result of the `yield` expression inside the coroutine. Here's an example:\n",
    "\n",
    "```python\n",
    "def printer():\n",
    "    while True:\n",
    "        value = yield\n",
    "        print(value)\n",
    "\n",
    "# Create a coroutine\n",
    "coro = printer()\n",
    "\n",
    "# Start the coroutine\n",
    "next(coro)\n",
    "\n",
    "# Send values to the coroutine\n",
    "coro.send(\"Hello\")\n",
    "coro.send(\"World\")\n",
    "```\n",
    "\n",
    "In this example, the `printer` function is a classic coroutine that receives values using the `yield` expression. We start the coroutine by calling `next(coro)` to advance to the first `yield` statement. Then, we can send values to the coroutine using the `send` method, and these values are printed by the coroutine.\n",
    "\n",
    "Classic coroutines were a precursor to native coroutines, which were introduced in Python 3.5 with the `async` and `await` keywords. Native coroutines provide better syntax and improved performance compared to classic coroutines, and they are the recommended approach for writing asynchronous code in modern versions of Python."
   ]
  },
  {
   "cell_type": "code",
   "execution_count": 1,
   "id": "879d6caf-f7ed-4718-af8a-2f0e29c3a898",
   "metadata": {},
   "outputs": [
    {
     "name": "stdout",
     "output_type": "stream",
     "text": [
      "Hello\n",
      "World\n"
     ]
    }
   ],
   "source": [
    "def printer():\n",
    "    while True:\n",
    "        value = yield\n",
    "        print(value)\n",
    "\n",
    "coro = printer()\n",
    "next(coro)\n",
    "coro.send(\"Hello\")\n",
    "coro.send(\"World\")"
   ]
  },
  {
   "cell_type": "markdown",
   "id": "8ecf86d0-9af4-42f7-ac71-f8698e1159d5",
   "metadata": {},
   "source": [
    "### Basic Behavior of a Coroutine\n",
    "\n",
    "Classic coroutines are based on generators and use the `yield` statement for pausing and resuming execution.\n",
    "\n",
    "Let's consider an example to understand the basic behavior of a classic-style coroutine that receives and sends values. Suppose we want to implement a coroutine that calculates the running average of a sequence of numbers. Here's how it might look:\n",
    "\n",
    "```python\n",
    "def average_coroutine():\n",
    "    count = 0\n",
    "    total = 0\n",
    "    average = None\n",
    "\n",
    "    while True:\n",
    "        value = yield average\n",
    "        total += value\n",
    "        count += 1\n",
    "        average = total / count\n",
    "```\n",
    "\n",
    "In this example, we define the `average_coroutine()` function as a classic-style coroutine. It initializes variables for count, total, and average. The coroutine enters an infinite loop using `while True`. Inside the loop, it uses the `yield` statement to pause execution and yield the current average value.\n",
    "\n",
    "To send values to the coroutine and receive the updated average, we can use the `send()` method. Here's an example usage:\n",
    "\n",
    "```python\n",
    "coroutine = average_coroutine()\n",
    "next(coroutine)  # Prime the coroutine\n",
    "\n",
    "values = [10, 20, 30, 40, 50]\n",
    "for value in values:\n",
    "    average = coroutine.send(value)\n",
    "    print(f\"Received average: {average}\")\n",
    "```\n",
    "\n",
    "In this example, we first create an instance of the `average_coroutine()` coroutine by calling it. We then prime the coroutine by calling `next(coroutine)` to advance it to the first `yield` statement.\n",
    "\n",
    "Next, we have a list of values [10, 20, 30, 40, 50]. We iterate over these values and send each value to the coroutine using `coroutine.send(value)`. This sends the value to the coroutine and resumes its execution until it reaches the next `yield` statement. The coroutine updates the count, total, and average variables and yields the current average value.\n",
    "\n",
    "In the loop, we print the received average after each value is sent to the coroutine. The output will show the running average as the coroutine processes each value in the sequence."
   ]
  },
  {
   "cell_type": "code",
   "execution_count": 2,
   "id": "8d6f495f-6be9-43a0-8797-11bceec03bc4",
   "metadata": {},
   "outputs": [],
   "source": [
    "def average_coroutine():\n",
    "    count = 0\n",
    "    total = 0\n",
    "    average = None\n",
    "\n",
    "    while True:\n",
    "        value = yield average\n",
    "        total += value\n",
    "        count += 1\n",
    "        average = total / count"
   ]
  },
  {
   "cell_type": "code",
   "execution_count": 4,
   "id": "6c940d70-35f3-4b20-9941-e4c8b9adf4ed",
   "metadata": {},
   "outputs": [],
   "source": [
    "avg = average_coroutine()\n",
    "next(avg)"
   ]
  },
  {
   "cell_type": "code",
   "execution_count": 5,
   "id": "dbb4c3b8-e4fe-43a4-87de-ac42856b40e3",
   "metadata": {},
   "outputs": [
    {
     "data": {
      "text/plain": [
       "10.0"
      ]
     },
     "execution_count": 5,
     "metadata": {},
     "output_type": "execute_result"
    }
   ],
   "source": [
    "avg.send(10)"
   ]
  },
  {
   "cell_type": "code",
   "execution_count": 6,
   "id": "abbaf174-4d9b-43c3-8388-c930c6806169",
   "metadata": {},
   "outputs": [
    {
     "data": {
      "text/plain": [
       "15.0"
      ]
     },
     "execution_count": 6,
     "metadata": {},
     "output_type": "execute_result"
    }
   ],
   "source": [
    "avg.send(20)"
   ]
  },
  {
   "cell_type": "markdown",
   "id": "bfa1ff6e-e4c1-4cc6-9d5e-75604eaa7954",
   "metadata": {},
   "source": [
    "### States of coroutine\n",
    "\n",
    "A coroutine can exist in four different states. The current state of a coroutine can be determined using the `inspect.getgeneratorstate(...)` function, which returns one of the following strings:\n",
    "\n",
    "1. `'GEN_CREATED'`:\n",
    "   This state indicates that the coroutine is waiting to start its execution.\n",
    "\n",
    "2. `'GEN_RUNNING'`:\n",
    "   This state indicates that the coroutine is currently being executed by the interpreter.\n",
    "\n",
    "3. `'GEN_SUSPENDED'`:\n",
    "   This state indicates that the coroutine is currently suspended at a `yield` expression.\n",
    "\n",
    "4. `'GEN_CLOSED'`:\n",
    "   This state indicates that the execution of the coroutine has been completed.\n",
    "\n",
    "When using the `send` method, the argument provided will become the value of the pending `yield` expression. Therefore, you can only call something like `my_coro.send(42)` if the coroutine is currently suspended. However, this is not the case if the coroutine has never been activated, i.e., when its state is 'GEN_CREATED'. That's why the first activation of a coroutine is always done using `next(my_coro)`. Alternatively, you can also call `my_coro.send(None)`, and the effect will be the same."
   ]
  },
  {
   "cell_type": "code",
   "execution_count": 1,
   "id": "d941ce1a-2689-4d05-bee1-71bb0021c8de",
   "metadata": {},
   "outputs": [],
   "source": [
    "import inspect\n",
    "\n",
    "def coroutine():\n",
    "    while True:\n",
    "        x = yield\n",
    "        print(x)"
   ]
  },
  {
   "cell_type": "code",
   "execution_count": 2,
   "id": "f8f75409-c54f-49f9-8c07-8dfbd852b166",
   "metadata": {},
   "outputs": [
    {
     "data": {
      "text/plain": [
       "'GEN_CREATED'"
      ]
     },
     "execution_count": 2,
     "metadata": {},
     "output_type": "execute_result"
    }
   ],
   "source": [
    "c = coroutine()\n",
    "\n",
    "inspect.getgeneratorstate(c)"
   ]
  },
  {
   "cell_type": "code",
   "execution_count": 3,
   "id": "4c8a54a1-e90f-4e0a-896e-82057d9e0b21",
   "metadata": {},
   "outputs": [
    {
     "data": {
      "text/plain": [
       "'GEN_SUSPENDED'"
      ]
     },
     "execution_count": 3,
     "metadata": {},
     "output_type": "execute_result"
    }
   ],
   "source": [
    "next(c)\n",
    "inspect.getgeneratorstate(c)"
   ]
  },
  {
   "cell_type": "markdown",
   "id": "d2afae96-04c9-46b4-bf29-7343ec53e2ba",
   "metadata": {},
   "source": [
    "> **<span style=\"color:red\">Note:<span/>** If you try to send a value to a coroutine without first calling `next` on it or calling `.send(None)` you will get an error."
   ]
  },
  {
   "cell_type": "code",
   "execution_count": 4,
   "id": "5be55e28-ad02-48c5-a56a-7d6fcc845778",
   "metadata": {},
   "outputs": [
    {
     "ename": "TypeError",
     "evalue": "can't send non-None value to a just-started generator",
     "output_type": "error",
     "traceback": [
      "\u001b[0;31m---------------------------------------------------------------------------\u001b[0m",
      "\u001b[0;31mTypeError\u001b[0m                                 Traceback (most recent call last)",
      "Cell \u001b[0;32mIn[4], line 2\u001b[0m\n\u001b[1;32m      1\u001b[0m c \u001b[38;5;241m=\u001b[39m coroutine()\n\u001b[0;32m----> 2\u001b[0m \u001b[43mc\u001b[49m\u001b[38;5;241;43m.\u001b[39;49m\u001b[43msend\u001b[49m\u001b[43m(\u001b[49m\u001b[38;5;241;43m10\u001b[39;49m\u001b[43m)\u001b[49m\n",
      "\u001b[0;31mTypeError\u001b[0m: can't send non-None value to a just-started generator"
     ]
    }
   ],
   "source": [
    "c = coroutine()\n",
    "c.send(10)"
   ]
  },
  {
   "cell_type": "markdown",
   "id": "ab70691d-0711-4709-a612-1c674de28f22",
   "metadata": {},
   "source": [
    "> **Let's now look at a coroutine in closed state:**"
   ]
  },
  {
   "cell_type": "code",
   "execution_count": 9,
   "id": "220b10e7-7543-4532-97ba-343ce28f242f",
   "metadata": {},
   "outputs": [],
   "source": [
    "import inspect\n",
    "\n",
    "def coroutine():\n",
    "    x = yield\n",
    "    print(x)\n",
    "    y = yield\n",
    "    print(y)"
   ]
  },
  {
   "cell_type": "code",
   "execution_count": 10,
   "id": "290d9809-0ecb-482f-b8d2-0b9f8a356b28",
   "metadata": {},
   "outputs": [],
   "source": [
    "c = coroutine()"
   ]
  },
  {
   "cell_type": "code",
   "execution_count": 11,
   "id": "65fbe275-2bcb-4b92-9b79-848db68fb09c",
   "metadata": {},
   "outputs": [],
   "source": [
    "next(c)"
   ]
  },
  {
   "cell_type": "code",
   "execution_count": 12,
   "id": "82567114-a331-4ef2-988c-ed4c09abb82e",
   "metadata": {},
   "outputs": [
    {
     "name": "stdout",
     "output_type": "stream",
     "text": [
      "Hello\n"
     ]
    }
   ],
   "source": [
    "c.send('Hello')"
   ]
  },
  {
   "cell_type": "code",
   "execution_count": 13,
   "id": "612c8bc8-59c2-46cf-ae67-862522b63a1d",
   "metadata": {},
   "outputs": [
    {
     "name": "stdout",
     "output_type": "stream",
     "text": [
      "!!!\n"
     ]
    },
    {
     "ename": "StopIteration",
     "evalue": "",
     "output_type": "error",
     "traceback": [
      "\u001b[0;31m---------------------------------------------------------------------------\u001b[0m",
      "\u001b[0;31mStopIteration\u001b[0m                             Traceback (most recent call last)",
      "Cell \u001b[0;32mIn[13], line 1\u001b[0m\n\u001b[0;32m----> 1\u001b[0m \u001b[43mc\u001b[49m\u001b[38;5;241;43m.\u001b[39;49m\u001b[43msend\u001b[49m\u001b[43m(\u001b[49m\u001b[38;5;124;43m'\u001b[39;49m\u001b[38;5;124;43m!!!\u001b[39;49m\u001b[38;5;124;43m'\u001b[39;49m\u001b[43m)\u001b[49m\n",
      "\u001b[0;31mStopIteration\u001b[0m: "
     ]
    }
   ],
   "source": [
    "c.send('!!!')"
   ]
  },
  {
   "cell_type": "code",
   "execution_count": 14,
   "id": "34a8d3df-ca93-4f55-9677-f9196156e3bd",
   "metadata": {},
   "outputs": [
    {
     "data": {
      "text/plain": [
       "'GEN_CLOSED'"
      ]
     },
     "execution_count": 14,
     "metadata": {},
     "output_type": "execute_result"
    }
   ],
   "source": [
    "inspect.getgeneratorstate(c)"
   ]
  },
  {
   "cell_type": "markdown",
   "id": "ce12286f-078c-4187-8dea-26a087c9f3aa",
   "metadata": {},
   "source": [
    "It is of utmost importance to grasp the concept that the execution of the coroutine pauses precisely at the yield keyword. The code on the right side of the equals sign (`=`) is evaluated before the assignment itself takes place. Consequently, in a line such as `b = yield a`, the value of `b` will only be assigned when the coroutine is subsequently activated by the client code. Adjusting to this reality may require some effort, but comprehending it is crucial for comprehending the application of yield in asynchronous programming, as we will explore later on."
   ]
  },
  {
   "cell_type": "markdown",
   "id": "67e1f180-1800-4853-bd00-44197cd3af95",
   "metadata": {},
   "source": [
    "> **Let's now break down the execution of a coroutine which computes the running average:**"
   ]
  },
  {
   "cell_type": "code",
   "execution_count": 16,
   "id": "470333b7-d983-4cad-924c-0668cb24112c",
   "metadata": {},
   "outputs": [],
   "source": [
    "def average_coroutine():\n",
    "    print('Starting coroutine...')\n",
    "    count = 0\n",
    "    total = 0\n",
    "    average = None\n",
    "\n",
    "    while True:\n",
    "        value = yield average\n",
    "        if value is None:\n",
    "            break\n",
    "        total += value\n",
    "        count += 1\n",
    "        average = total / count"
   ]
  },
  {
   "cell_type": "markdown",
   "id": "df281416-131f-4457-84de-8bf3e7ab6e55",
   "metadata": {},
   "source": [
    "The execution of the given coroutine can be broken down into three stages: coroutine priming, sending a value to the coroutine, and stopping the coroutine by sending None."
   ]
  },
  {
   "cell_type": "code",
   "execution_count": 18,
   "id": "05a6e4f8-63b0-4d9c-bf65-dbb08dc7aa8f",
   "metadata": {},
   "outputs": [],
   "source": [
    "averager = average_coroutine()"
   ]
  },
  {
   "cell_type": "code",
   "execution_count": 19,
   "id": "eeec3f54-64f1-457f-b2a2-ab6bb65363a8",
   "metadata": {},
   "outputs": [
    {
     "name": "stdout",
     "output_type": "stream",
     "text": [
      "Starting coroutine...\n"
     ]
    }
   ],
   "source": [
    "next(averager)"
   ]
  },
  {
   "cell_type": "markdown",
   "id": "e4a595f7-da6a-4fc6-89af-617cc8d1261a",
   "metadata": {},
   "source": [
    "1. Coroutine Priming:\n",
    "   - When the coroutine is initially created and called, it doesn't start executing immediately. Instead, it enters the priming stage.\n",
    "   - At this stage, the coroutine's code is not yet executed. The initial execution is paused at the first line of the coroutine function, which is `print('Starting coroutine...')`.\n",
    "   - The coroutine is now ready to receive a value through the `yield` expression."
   ]
  },
  {
   "cell_type": "code",
   "execution_count": 20,
   "id": "f2724af0-a639-47fd-88ab-b36484e62578",
   "metadata": {},
   "outputs": [
    {
     "data": {
      "text/plain": [
       "10.0"
      ]
     },
     "execution_count": 20,
     "metadata": {},
     "output_type": "execute_result"
    }
   ],
   "source": [
    "averager.send(10)"
   ]
  },
  {
   "cell_type": "code",
   "execution_count": 21,
   "id": "45feff07-ee5e-44e8-8856-32adf134338c",
   "metadata": {},
   "outputs": [
    {
     "data": {
      "text/plain": [
       "6.5"
      ]
     },
     "execution_count": 21,
     "metadata": {},
     "output_type": "execute_result"
    }
   ],
   "source": [
    "averager.send(3)"
   ]
  },
  {
   "cell_type": "markdown",
   "id": "d22883d2-7a6c-4ea3-90c8-bf3a8c7249f7",
   "metadata": {},
   "source": [
    "2. Sending a Value to the Coroutine:\n",
    "   - To resume the execution of the coroutine and proceed beyond the `yield` expression, a value needs to be sent to it.\n",
    "   - The value is sent using the `send()` method, which can be called on the coroutine object.\n",
    "   - When a value is sent, the execution of the coroutine continues from where it left off, and the value is assigned to the `value` variable in the coroutine.\n",
    "   - In the given coroutine, the `yield` expression is `yield average`, so the value sent to the coroutine will be assigned to the `average` variable.\n",
    "   - The execution of the coroutine proceeds until the next `yield` expression is encountered."
   ]
  },
  {
   "cell_type": "code",
   "execution_count": 22,
   "id": "0744d915-c387-488c-87df-35655133679d",
   "metadata": {},
   "outputs": [
    {
     "ename": "StopIteration",
     "evalue": "",
     "output_type": "error",
     "traceback": [
      "\u001b[0;31m---------------------------------------------------------------------------\u001b[0m",
      "\u001b[0;31mStopIteration\u001b[0m                             Traceback (most recent call last)",
      "Cell \u001b[0;32mIn[22], line 1\u001b[0m\n\u001b[0;32m----> 1\u001b[0m \u001b[43maverager\u001b[49m\u001b[38;5;241;43m.\u001b[39;49m\u001b[43msend\u001b[49m\u001b[43m(\u001b[49m\u001b[38;5;28;43;01mNone\u001b[39;49;00m\u001b[43m)\u001b[49m\n",
      "\u001b[0;31mStopIteration\u001b[0m: "
     ]
    }
   ],
   "source": [
    "averager.send(None)"
   ]
  },
  {
   "cell_type": "markdown",
   "id": "da9cd769-7986-441c-aa0a-e436eb76e46d",
   "metadata": {},
   "source": [
    "3. Stopping the Coroutine by Sending `None`:\n",
    "   - To stop the execution of the coroutine, a `None` value is sent through the `send()` method.\n",
    "   - In the given coroutine, when the value received is None, the `if value is None` condition is satisfied, and the loop is terminated using the `break` statement.\n",
    "   - After the loop is exited, the coroutine function ends, and the coroutine is considered complete."
   ]
  },
  {
   "cell_type": "markdown",
   "id": "4a828944-f77b-4c76-90b5-0d04373a9986",
   "metadata": {},
   "source": [
    "### Priming a Coroutine Using Decorator\n",
    "\n",
    "Priming a coroutine refers to the process of preparing a coroutine to be executed by advancing it to its first `yield` statement. In Python, a common way to prime a coroutine is by using a decorator.\n",
    "\n",
    "Here's an example of how you can prime a coroutine using a decorator in Python:\n",
    "\n",
    "```python\n",
    "def coroutine_decorator(func):\n",
    "    def wrapper(*args, **kwargs):\n",
    "        coroutine = func(*args, **kwargs)\n",
    "        next(coroutine)  # Advance the coroutine to the first yield statement\n",
    "        return coroutine\n",
    "    return wrapper\n",
    "\n",
    "@coroutine_decorator\n",
    "def my_coroutine():\n",
    "    while True:\n",
    "        value = yield\n",
    "        # Process the value or perform some other task\n",
    "\n",
    "# Create an instance of the primed coroutine\n",
    "coro = my_coroutine()\n",
    "\n",
    "# Send values to the coroutine\n",
    "coro.send('Hello')\n",
    "coro.send('World')\n",
    "```\n",
    "\n",
    "In the code above, we define a decorator function `coroutine_decorator` that takes a coroutine function as an argument. Inside the decorator, we create a wrapper function that calls the coroutine function, advances it to the first `yield` statement using `next(coroutine)`, and returns the primed coroutine.\n",
    "\n",
    "The `my_coroutine` function is decorated with `@coroutine_decorator`, which means that when we create an instance of `my_coroutine` using `coro = my_coroutine()`, it will be automatically primed.\n",
    "\n",
    "Once the coroutine is primed, we can send values to it using the `send()` method. In the example, we send the strings `'Hello'` and `'World'` to the coroutine using `coro.send('Hello')` and `coro.send('World')`. The coroutine can process these values or perform any other task defined within its body.\n",
    "\n",
    "Note that after the first `yield` statement, subsequent calls to `send()` will resume the coroutine from where it left off, allowing it to receive and process values."
   ]
  },
  {
   "cell_type": "code",
   "execution_count": 27,
   "id": "8e299340-3496-4709-b716-2f655c165a06",
   "metadata": {},
   "outputs": [],
   "source": [
    "def coroutine_decorator(func):\n",
    "    def wrapper(*args, **kwargs):\n",
    "        coroutine = func(*args, **kwargs)\n",
    "        next(coroutine)  # Advance the coroutine to the first yield statement\n",
    "        return coroutine\n",
    "    return wrapper\n",
    "\n",
    "\n",
    "@coroutine_decorator\n",
    "def average_coroutine():\n",
    "    print('Starting coroutine...')\n",
    "    count = 0\n",
    "    total = 0\n",
    "    average = None\n",
    "\n",
    "    while True:\n",
    "        value = yield average\n",
    "        if value is None:\n",
    "            break\n",
    "        total += value\n",
    "        count += 1\n",
    "        average = total / count"
   ]
  },
  {
   "cell_type": "code",
   "execution_count": 24,
   "id": "e0cc061d-2381-44d7-9f30-ba8e00a8c45e",
   "metadata": {},
   "outputs": [
    {
     "name": "stdout",
     "output_type": "stream",
     "text": [
      "Starting coroutine...\n"
     ]
    }
   ],
   "source": [
    "averager = average_coroutine()"
   ]
  },
  {
   "cell_type": "code",
   "execution_count": 25,
   "id": "3dd98685-cce5-482d-a22e-091efeb71798",
   "metadata": {},
   "outputs": [
    {
     "data": {
      "text/plain": [
       "1.0"
      ]
     },
     "execution_count": 25,
     "metadata": {},
     "output_type": "execute_result"
    }
   ],
   "source": [
    "averager.send(1)"
   ]
  },
  {
   "cell_type": "code",
   "execution_count": 26,
   "id": "ecd39c8e-5fce-4b72-99db-6ac77b0ca91f",
   "metadata": {},
   "outputs": [
    {
     "data": {
      "text/plain": [
       "6.0"
      ]
     },
     "execution_count": 26,
     "metadata": {},
     "output_type": "execute_result"
    }
   ],
   "source": [
    "averager.send(11)"
   ]
  },
  {
   "cell_type": "markdown",
   "id": "d2add070-e224-4570-b097-3b41d46fc108",
   "metadata": {},
   "source": [
    "### Throwing Exceptions to Coroutines\n",
    "\n",
    "The `throw` method allows you to raise an exception from outside the coroutine's code, effectively interrupting its execution at the next `yield` point. Here's how it works:\n",
    "\n",
    "1. **Exception Injection:** You call `throw` on the coroutine object, passing the exception type (`type`) and optionally the exception value (`value`) and traceback (`traceback`).\n",
    "2. **Suspension Point:** If the coroutine is currently suspended at a `yield` expression, the exception is raised as if it originated from within the coroutine at that point.\n",
    "3. **Exception Handling:** The coroutine's code can handle the exception using a `try...except` block around the `yield` expression. If handled, execution resumes from the next statement after the `yield`.\n",
    "4. **Unhandled Exception:** If the exception is not handled within the coroutine, it propagates back to the caller (the code that called `throw`).\n",
    "\n",
    "Here's an example of how it works:\n",
    "\n",
    "```python\n",
    "def coroutine():\n",
    "    while True:\n",
    "        try:\n",
    "            x = yield\n",
    "            print(x)\n",
    "        except ZeroDivisionError:\n",
    "            print('Please do not divide by Zero!')\n",
    "```\n",
    "\n",
    "Let's break down what it does:\n",
    "\n",
    "1. The coroutine is defined using the `def` keyword and named `coroutine()`.\n",
    "2. Within the coroutine, there is an infinite loop indicated by `while True`. This means the coroutine will keep executing its code indefinitely, unless it is explicitly stopped or interrupted.\n",
    "3. Inside the loop, there is a `try-except` block that handles exceptions.\n",
    "4. The line `x = yield` is a generator statement that acts as a pause point within the coroutine. It allows the coroutine to receive a value from the code that is consuming the coroutine.\n",
    "   - When the coroutine is first started, calling `next(coroutine)` or `coroutine.send(None)` will advance the coroutine to this point, and the `yield` expression will evaluate to `None`.\n",
    "   - When a value is sent to the coroutine using `coroutine.send(value)`, the coroutine resumes execution from the `yield` expression, and the value sent is assigned to the variable `x`.\n",
    "   - The coroutine then proceeds to print the value of `x`.\n",
    "5. If a `ZeroDivisionError` exception is raised within the coroutine by sending it through `.throw` method, the `except ZeroDivisionError` block is executed.\n",
    "   - In this case, the coroutine prints the message \"Please do not divide by Zero!\".\n",
    "\n",
    "\n",
    "In conclusion `throw` lets you forcefully insert an error at that pause point. If the generator has a way to deal with the error (like a try...except block), it can handle it and continue and the next value yielded becomes the value of the `c.throw(Exception)` . Otherwise, the error gets thrown back to wherever you called the generator from."
   ]
  },
  {
   "cell_type": "code",
   "execution_count": 49,
   "id": "86516d8b-d829-4166-920b-bd70a4a93371",
   "metadata": {},
   "outputs": [],
   "source": [
    "def coroutine():\n",
    "    while True:\n",
    "        try:\n",
    "            x = yield\n",
    "            print(x)\n",
    "        except ZeroDivisionError:\n",
    "            print('Please do not divide by Zero!')"
   ]
  },
  {
   "cell_type": "code",
   "execution_count": 50,
   "id": "c514e2be-c937-4341-a61a-223bb81a16a2",
   "metadata": {},
   "outputs": [],
   "source": [
    "c = coroutine()"
   ]
  },
  {
   "cell_type": "code",
   "execution_count": 51,
   "id": "f52fa04e-de86-4fd6-a432-af43c4c53bd0",
   "metadata": {},
   "outputs": [],
   "source": [
    "next(c)"
   ]
  },
  {
   "cell_type": "code",
   "execution_count": 52,
   "id": "ce089821-8e05-406f-86c0-48fd33324b29",
   "metadata": {},
   "outputs": [
    {
     "name": "stdout",
     "output_type": "stream",
     "text": [
      "10\n"
     ]
    }
   ],
   "source": [
    "c.send(10)"
   ]
  },
  {
   "cell_type": "code",
   "execution_count": 53,
   "id": "a3fa1412-23b4-47cd-9bb7-ced780610eb4",
   "metadata": {},
   "outputs": [
    {
     "name": "stdout",
     "output_type": "stream",
     "text": [
      "100\n"
     ]
    }
   ],
   "source": [
    "c.send(100)"
   ]
  },
  {
   "cell_type": "code",
   "execution_count": 54,
   "id": "5e12083e-92e7-4946-b09e-0f87f0c361b7",
   "metadata": {},
   "outputs": [
    {
     "name": "stdout",
     "output_type": "stream",
     "text": [
      "Please do not divide by Zero!\n"
     ]
    }
   ],
   "source": [
    "c.throw(ZeroDivisionError)"
   ]
  },
  {
   "cell_type": "code",
   "execution_count": 55,
   "id": "a9fe10e5-6e14-4b19-8531-efc825ec786e",
   "metadata": {},
   "outputs": [
    {
     "name": "stdout",
     "output_type": "stream",
     "text": [
      "10\n"
     ]
    }
   ],
   "source": [
    "c.send(10)"
   ]
  },
  {
   "cell_type": "markdown",
   "id": "7cdf0630-05ff-433a-8c57-6505bce0bb2c",
   "metadata": {},
   "source": [
    "> **<span style=\"color:red\">Note:<span/>** If the exception is not handled within the coroutine, it propagates back to the caller."
   ]
  },
  {
   "cell_type": "code",
   "execution_count": 56,
   "id": "db8c6b0b-17ad-4a52-8587-f65de2d323c5",
   "metadata": {},
   "outputs": [
    {
     "ename": "Exception",
     "evalue": "",
     "output_type": "error",
     "traceback": [
      "\u001b[0;31m---------------------------------------------------------------------------\u001b[0m",
      "\u001b[0;31mException\u001b[0m                                 Traceback (most recent call last)",
      "Cell \u001b[0;32mIn[56], line 1\u001b[0m\n\u001b[0;32m----> 1\u001b[0m \u001b[43mc\u001b[49m\u001b[38;5;241;43m.\u001b[39;49m\u001b[43mthrow\u001b[49m\u001b[43m(\u001b[49m\u001b[38;5;167;43;01mException\u001b[39;49;00m\u001b[43m)\u001b[49m\n",
      "Cell \u001b[0;32mIn[49], line 4\u001b[0m, in \u001b[0;36mcoroutine\u001b[0;34m()\u001b[0m\n\u001b[1;32m      2\u001b[0m \u001b[38;5;28;01mwhile\u001b[39;00m \u001b[38;5;28;01mTrue\u001b[39;00m:\n\u001b[1;32m      3\u001b[0m     \u001b[38;5;28;01mtry\u001b[39;00m:\n\u001b[0;32m----> 4\u001b[0m         x \u001b[38;5;241m=\u001b[39m \u001b[38;5;28;01myield\u001b[39;00m\n\u001b[1;32m      5\u001b[0m         \u001b[38;5;28mprint\u001b[39m(x)\n\u001b[1;32m      6\u001b[0m     \u001b[38;5;28;01mexcept\u001b[39;00m \u001b[38;5;167;01mZeroDivisionError\u001b[39;00m:\n",
      "\u001b[0;31mException\u001b[0m: "
     ]
    }
   ],
   "source": [
    "c.throw(Exception)"
   ]
  },
  {
   "cell_type": "markdown",
   "id": "aa111906-d2f3-4c8b-8b73-6dc41f6965f6",
   "metadata": {},
   "source": [
    "### Terminating a Coroutine\n",
    "\n",
    "The `close` method on classic-style coroutines serves to gracefully terminate the coroutine's execution and potentially perform cleanup tasks. Here's a breakdown of its functionality:\n",
    "\n",
    "**Functionality:**\n",
    "\n",
    "- **Signals Termination:** When you call `close` on a coroutine object, it signals the coroutine to stop execution at the next convenient point. This \"convenient point\" is typically the next `yield` expression.\n",
    "- **Cleanup Actions:** The `close` method can also be used to trigger any necessary cleanup actions within the coroutine, such as closing open files or releasing resources. This is often achieved using the `finally` block of a `try...except` construct surrounding `yield` expressions.\n",
    "- **Exception Generation:** Internally, `close` raises a special exception called `GeneratorExit`. This exception can be caught within the coroutine's code using a `try...except` block.\n",
    "\n",
    "Here's an example of how it works:\n",
    "\n",
    "```python\n",
    "def my_coroutine():\n",
    "    try:\n",
    "        while True:\n",
    "            resource = open(\"data.txt\", \"w\")\n",
    "            data = yield  # Suspend at the first yield\n",
    "            resource.write(data)\n",
    "            print(data)\n",
    "    except GeneratorExit:  # Catch the special exception raised by close\n",
    "        print(\"Coroutine terminated by close\")\n",
    "    finally:\n",
    "        print(\"Cleanning up...\")\n",
    "        resource.close()\n",
    "\n",
    "coro = my_coroutine()\n",
    "\n",
    "# Simulate successful execution\n",
    "value = next(coro)\n",
    "coro.send('Hello')\n",
    "\n",
    "# Terminate the coroutine gracefully\n",
    "coro.close()\n",
    "\n",
    "# Output:\n",
    "# 5\n",
    "# Coroutine terminated by close\n",
    "# Cleanning up...\n",
    "```\n",
    "\n",
    "In this example:\n",
    "\n",
    "- The coroutine opens a file (`data.txt`) and suspends at the first `yield`.\n",
    "- We send a value (`'Hello'`) at the first `yield`.\n",
    "- Calling `close` on the coroutine object raises `GeneratorExit`, which is caught by the `try...except` block.\n",
    "- The `finally` block ensures the file is closed.\n",
    "- The coroutine execution is terminated, and a message indicating termination is printed."
   ]
  },
  {
   "cell_type": "code",
   "execution_count": 103,
   "id": "e484e2ba-98ba-4c40-83e3-cda9a780d356",
   "metadata": {},
   "outputs": [],
   "source": [
    "def my_coroutine():\n",
    "    try:\n",
    "        while True:\n",
    "            resource = open(\"data.txt\", \"w\")\n",
    "            data = yield  # Suspend at the first yield\n",
    "            resource.write(data)\n",
    "            print(data)\n",
    "    except GeneratorExit:  # Catch the special exception raised by close\n",
    "        print(\"Coroutine terminated by close\")\n",
    "    finally:\n",
    "        print(\"Cleanning up...\")\n",
    "        resource.close()"
   ]
  },
  {
   "cell_type": "code",
   "execution_count": 104,
   "id": "487ab171-fdb5-46fd-9fb1-d1d304172a1e",
   "metadata": {},
   "outputs": [],
   "source": [
    "c = my_coroutine()\n",
    "next(c)"
   ]
  },
  {
   "cell_type": "code",
   "execution_count": 105,
   "id": "a4bfe497-ada5-4b39-be90-b48551ca1a8e",
   "metadata": {},
   "outputs": [
    {
     "name": "stdout",
     "output_type": "stream",
     "text": [
      "Hello\n",
      "Coroutine terminated by close\n",
      "Cleanning up...\n"
     ]
    }
   ],
   "source": [
    "c.send('Hello')\n",
    "c.close()"
   ]
  },
  {
   "cell_type": "markdown",
   "id": "9f71ba4f-9b56-49b8-b7d5-3d4614d31eb2",
   "metadata": {},
   "source": [
    "> **<span style=\"color:red\">Note:</span>** When a coroutine is about to be garbage collected, the `.close()` method on it will be called before it gets garbage collected."
   ]
  },
  {
   "cell_type": "code",
   "execution_count": 18,
   "id": "90a76222-b08a-4c20-b5d5-0687b733646b",
   "metadata": {},
   "outputs": [],
   "source": [
    "def coroutine():\n",
    "    try:\n",
    "        yield 'Hello'\n",
    "        yield 'World'\n",
    "        return 'Done'\n",
    "    except GeneratorExit:\n",
    "        print('Exiting...')"
   ]
  },
  {
   "cell_type": "code",
   "execution_count": 19,
   "id": "7e9252c7-012d-466a-9911-960d0ad8880b",
   "metadata": {},
   "outputs": [],
   "source": [
    "c = coroutine()"
   ]
  },
  {
   "cell_type": "code",
   "execution_count": 20,
   "id": "13d18578-64ed-41a5-a604-5d5c7e2f5c2a",
   "metadata": {},
   "outputs": [
    {
     "data": {
      "text/plain": [
       "'Hello'"
      ]
     },
     "execution_count": 20,
     "metadata": {},
     "output_type": "execute_result"
    }
   ],
   "source": [
    "next(c)"
   ]
  },
  {
   "cell_type": "code",
   "execution_count": 21,
   "id": "269e54f5-a696-4448-8563-11b2061178b4",
   "metadata": {},
   "outputs": [
    {
     "name": "stdout",
     "output_type": "stream",
     "text": [
      "Exiting...\n"
     ]
    }
   ],
   "source": [
    "del c"
   ]
  },
  {
   "cell_type": "markdown",
   "id": "c2fc0c35-be47-414c-b129-e105d5dfbbab",
   "metadata": {},
   "source": [
    "### Return Statement Inside a Coroutine\n",
    "\n",
    "In classic-style coroutines, a `return` statement within the coroutine function behaves differently compared to regular functions. Here's what it does:\n",
    "\n",
    "**Behavior:**\n",
    "\n",
    "- **Terminates Execution:** Unlike a regular function where `return` exits the function and returns a value, in a coroutine, `return` permanently terminates the coroutine's execution.\n",
    "- **No Return Value:** Classic coroutines themselves don't have a formal return value. However, the value you provide to the `return` statement can be used in specific contexts.\n",
    "\n",
    "- **Return Value is Inside an `StopIteration` Exception**: The returned value can be extracted by handling the raised exception and obtaining the value of exception.\n",
    "\n",
    "**Example Usage:**\n",
    "\n",
    "```python\n",
    "from collections import namedtuple\n",
    "\n",
    "Result = namedtuple('Result', 'count average')\n",
    "\n",
    "\n",
    "def average_coroutine():\n",
    "    total = 0.0\n",
    "    count = 0\n",
    "    average = None\n",
    "    while True:\n",
    "        term = yield\n",
    "        if term is None:\n",
    "            break  # (1)\n",
    "        total += term\n",
    "        count += 1\n",
    "        average = total/count\n",
    "    return Result(count, average)\n",
    "\n",
    "averager = average_coroutine()\n",
    "next(averager)\n",
    "\n",
    "averager.send(10)\n",
    "averager.send(2)\n",
    "\n",
    "try:\n",
    "    averager.send(None)\n",
    "except StopIteration as e:\n",
    "    print(e.value)\n",
    "```\n",
    "\n",
    "This code defines a coroutine `average_coroutine()` that calculates the average of numbers sent to it using the `send()` method. Let's break down the code step by step:\n",
    "\n",
    "1. **Importing necessary modules**: The code imports the `namedtuple` class from the `collections` module. `namedtuple` is used to create a simple class to store the result of the average calculation.\n",
    "\n",
    "2. **Defining the `Result` named tuple**: A named tuple called `Result` is created with two fields: `count` and `average`. This tuple will be used to store the result of the average calculation.\n",
    "\n",
    "3. **Defining the `average_coroutine()` function**: This function is a generator-based coroutine. It initializes three variables: `total` (sum of numbers), `count` (number of numbers), and `average` (current average). It enters an infinite loop (`while True`) and waits for input using the `yield` keyword.\n",
    "\n",
    "4. **Receiving input**: Inside the loop, the coroutine receives input using `term = yield`. It expects numbers to be sent to it via `send()`. If `None` is sent (signaling the end of input), the loop breaks (marked as (1)).\n",
    "\n",
    "5. **Calculating the average**: If a number is received (`term is not None`), it adds the number to `total`, increments `count`, and updates the `average` accordingly.\n",
    "\n",
    "6. **Returning the result**: When `None` is received, indicating the end of input, the coroutine exits the loop, creates a `Result` named tuple with the final `count` and `average`, and returns it.\n",
    "\n",
    "7. **Instantiating the coroutine and preparing for input**: The `average_coroutine()` is instantiated and initialized by calling `next(averager)`, which moves the coroutine to the first `yield` statement.\n",
    "\n",
    "8. **Sending numbers to the coroutine**: Numbers (10 and 2) are sent to the coroutine using `send()`. The coroutine calculates the average as numbers are sent.\n",
    "\n",
    "9. **Ending input and retrieving the result**: Finally, `None` is sent to the coroutine to signal the end of input. The coroutine calculates the final average and raises a `StopIteration` exception with the result. The result is then accessed using `e.value` and printed.\n",
    "\n",
    "**Important Notes:**\n",
    "\n",
    "- `return` in classic coroutines is primarily used for termination, not for returning values like regular functions."
   ]
  },
  {
   "cell_type": "code",
   "execution_count": 108,
   "id": "16df1689-5bb4-4032-ac3b-2c0048bc25d8",
   "metadata": {},
   "outputs": [
    {
     "name": "stdout",
     "output_type": "stream",
     "text": [
      "Result(count=2, average=6.0)\n"
     ]
    }
   ],
   "source": [
    "from collections import namedtuple\n",
    "\n",
    "Result = namedtuple('Result', 'count average')\n",
    "\n",
    "def average_coroutine():\n",
    "    total = 0.0\n",
    "    count = 0\n",
    "    average = None\n",
    "    while True:\n",
    "        term = yield\n",
    "        if term is None:\n",
    "            break  # (1)\n",
    "        total += term\n",
    "        count += 1\n",
    "        average = total/count\n",
    "    return Result(count, average)\n",
    "\n",
    "averager = average_coroutine()\n",
    "next(averager)\n",
    "\n",
    "averager.send(10)\n",
    "averager.send(2)\n",
    "\n",
    "try:\n",
    "    averager.send(None)\n",
    "except StopIteration as e:\n",
    "    print(e.value)"
   ]
  },
  {
   "cell_type": "markdown",
   "id": "97057f95-a58e-4b4d-bc9a-3364eff18cdb",
   "metadata": {},
   "source": [
    "### Extra curriculum:\n",
    "1. [Classic Coroutines](https://www.fluentpython.com/extra/classic-coroutines)\n",
    "2. [Curious Course on Coroutines and Concurrency](https://www.youtube.com/watch?v=Z_OAlIhXziw)"
   ]
  }
 ],
 "metadata": {
  "kernelspec": {
   "display_name": "Python 3 (ipykernel)",
   "language": "python",
   "name": "python3"
  },
  "language_info": {
   "codemirror_mode": {
    "name": "ipython",
    "version": 3
   },
   "file_extension": ".py",
   "mimetype": "text/x-python",
   "name": "python",
   "nbconvert_exporter": "python",
   "pygments_lexer": "ipython3",
   "version": "3.11.5"
  }
 },
 "nbformat": 4,
 "nbformat_minor": 5
}
