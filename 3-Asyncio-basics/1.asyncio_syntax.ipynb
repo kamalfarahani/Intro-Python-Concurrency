{
 "cells": [
  {
   "cell_type": "markdown",
   "id": "f6a22571-1a33-4593-a810-ea56421ea32b",
   "metadata": {},
   "source": [
    "## `asyncio` syntax\n",
    "\n",
    "A coroutine is a special type of function that can **pause and resume its execution**. Unlike a regular function that runs from start to finish without interruption, a coroutine can temporarily stop itself when it encounters an operation that takes time to complete. This includes reading a file from a disk or making a network request. This “pause” allows the program to do other things instead of waiting idly.\n",
    "\n",
    "Imagine you're cooking dinner and the recipe calls for boiling water. Instead of just staring at the pot until it boils (a regular function), you put the lid on and walk away to chop some vegetables (the program doing other work). When the water finally boils, you can come back and continue with the next step of the recipe—like adding pasta. The coroutine is like the cook who can efficiently multitask by pausing one task to start another.\n",
    "\n",
    "When the long-running operation is done, the coroutine is “woken up” and resumes exactly where it left off, completing the rest of its code. This ability to pause and resume is the key to achieving **concurrency**, allowing a single program to manage many tasks efficiently without blocking or freezing."
   ]
  },
  {
   "cell_type": "markdown",
   "id": "9adea737-0053-4bfa-b0ec-682d1cea4e0e",
   "metadata": {},
   "source": [
    "### Creating coroutines using `async` syntac\n",
    "\n",
    "\n",
    "Creating a coroutine is simple, just like defining a regular function, but you use the keyword **`async`** before **`def`**. This small change is what tells Python the function is a coroutine, allowing it to be paused and resumed.\n",
    "\n",
    "\n",
    "```python\n",
    "async def my_coroutine():\n",
    "    print(\"Hello coroutine\")\n",
    "```\n",
    "\n",
    "To run a coroutine in Python, you can't simply call it like a regular function. Coroutines need to be executed by an event loop, which is a special program that manages and schedules the execution of asynchronous tasks. The simplest and most common way to do this is by using the `asyncio.run()` function.\n",
    "\n",
    "\n",
    "```python\n",
    "import asyncio\n",
    "import time\n",
    "\n",
    "# A coroutine is defined with 'async def'.\n",
    "async def my_coroutine(name):\n",
    "    \"\"\"\n",
    "    This is a coroutine that simulates an I/O-bound task.\n",
    "    \"\"\"\n",
    "    print(f\"[{time.time():.2f}] Coroutine '{name}' started.\")\n",
    "    \n",
    "    # The 'await' keyword pauses this coroutine and gives control back to the event loop.\n",
    "    # The event loop can then run other tasks while 'my_coroutine' is waiting.\n",
    "    await asyncio.sleep(2)  # Simulates waiting for 2 seconds (e.g., a network request)\n",
    "    \n",
    "    print(f\"[{time.time():.2f}] Coroutine '{name}' resumed and finished.\")\n",
    "\n",
    "# The 'main' function is a coroutine that serves as the entry point for the program.\n",
    "# It is also defined with 'async def'.\n",
    "async def main():\n",
    "    \"\"\"\n",
    "    The main entry point for the asynchronous program.\n",
    "    \"\"\"\n",
    "    print(\"Program starting...\")\n",
    "    \n",
    "    # We call our coroutine here, but this does not run it immediately.\n",
    "    # It simply returns an \"awaitable\" object (a coroutine object).\n",
    "    coro = my_coroutine(\"First Task\")\n",
    "    \n",
    "    # The 'await' keyword is used to execute the coroutine.\n",
    "    # The program will pause here until 'coro' has finished running.\n",
    "    await coro\n",
    "    \n",
    "    print(\"Program finished.\")\n",
    "```"
   ]
  },
  {
   "cell_type": "code",
   "execution_count": null,
   "id": "6e3f5811-d7f0-40ea-8a21-e11bcdfb7b7e",
   "metadata": {},
   "outputs": [],
   "source": []
  }
 ],
 "metadata": {
  "kernelspec": {
   "display_name": "Python 3 (ipykernel)",
   "language": "python",
   "name": "python3"
  },
  "language_info": {
   "codemirror_mode": {
    "name": "ipython",
    "version": 3
   },
   "file_extension": ".py",
   "mimetype": "text/x-python",
   "name": "python",
   "nbconvert_exporter": "python",
   "pygments_lexer": "ipython3",
   "version": "3.12.3"
  }
 },
 "nbformat": 4,
 "nbformat_minor": 5
}
