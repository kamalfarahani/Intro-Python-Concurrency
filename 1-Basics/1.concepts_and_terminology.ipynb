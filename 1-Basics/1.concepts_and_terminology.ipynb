{
 "cells": [
  {
   "cell_type": "markdown",
   "id": "028a2d17-8d2f-4105-a23a-72b7c8991277",
   "metadata": {},
   "source": [
    "## Basic concepts and terminology\n",
    "\n"
   ]
  },
  {
   "cell_type": "markdown",
   "id": "6253a651-5489-40de-8452-420bb8c1cafa",
   "metadata": {},
   "source": [
    "### Concurrent programming\n",
    "\n",
    "Concurrent programming is a programming paradigm that deals with the execution of multiple tasks or processes simultaneously or in overlapping time intervals. It focuses on efficiently utilizing system resources and improving performance by allowing different parts of a program to execute concurrently.\n",
    "\n",
    "In concurrent programming, tasks are **designed** to run independently of each other, and they may share resources or communicate with each other to achieve their goals. The main goal is to maximize efficiency by executing tasks concurrently, especially in situations where tasks can be executed in parallel, such as performing multiple calculations or processing multiple requests simultaneously."
   ]
  },
  {
   "cell_type": "markdown",
   "id": "3b6f30a9-5cc2-43f3-a047-b898edb5df82",
   "metadata": {},
   "source": [
    "### Parallelism\n",
    "\n",
    "Parallelism refers to the simultaneous execution of multiple tasks or instructions.\n",
    "\n",
    "Parallelism takes advantage of systems that have multiple processing units, such as multiple CPU cores or distributed computing environments, to perform computations simultaneously. Parallelism aims to reduce the overall execution time and increase throughput."
   ]
  },
  {
   "cell_type": "markdown",
   "id": "75f090c6-20f3-42b4-b9fe-3fafc29bffa6",
   "metadata": {},
   "source": [
    "> **Note**: Concurrency in is about design, while Parallelism is about execution"
   ]
  },
  {
   "cell_type": "markdown",
   "id": "d4e145ad-3c75-4e03-907e-8759ae2537e5",
   "metadata": {},
   "source": [
    "> **Note**: By concurrent design of a program we can leverage parallel execution to improve our performance"
   ]
  },
  {
   "cell_type": "markdown",
   "id": "4b9a57eb-9927-4811-8312-6af8de53a7a6",
   "metadata": {},
   "source": [
    "### Synchronous vs. Asynchronous programming\n",
    "\n",
    "Synchronous and asynchronous programming are two different approaches to managing the execution of code in a program, particularly when dealing with tasks that may take a significant amount of time to complete, such as network requests or file operations. The main difference between synchronous and asynchronous programming lies in how they handle the flow of execution and the waiting time for tasks to complete.\n",
    "\n",
    "1. **Synchronous Programming**:\n",
    "In synchronous programming, also known as blocking or sequential programming, tasks are executed one after the other in a sequential manner. When a task is executed, the program waits for it to complete before moving on to the next task. In other words, the program blocks and remains idle until the task finishes its execution.\n",
    "\n",
    "Here's an example of synchronous code that fetches data from a web server:\n",
    "\n",
    "```python\n",
    "response = make_network_request(url)  # Blocks until the request is complete\n",
    "do_some_other_works()\n",
    "process_response(response)\n",
    "```\n",
    "\n",
    "In this example, the program makes a network request and blocks until the response is received before proceeding to process the response. The program cannot perform any other tasks during the waiting period.\n",
    "\n",
    "2. **Asynchronous Programming**:\n",
    "Asynchronous programming refers to the ability to execute a specific lengthy task independently in the background, separate from the main application. Instead of halting all other code within the application and waiting for the completion of the long-running task, the system is able to perform other tasks that are not reliant on it. Subsequently, once the long-running task concludes, a notification is received to indicate its completion, enabling us to process the outcome.\n",
    "\n",
    "\n",
    "Here's an example of asynchronous code using a hypothetical asynchronous function `make_network_request_async`:\n",
    "\n",
    "```python\n",
    "response = await make_network_request_async(url)  # Non-blocking call\n",
    "do_some_other_works()\n",
    "process_response(response)  # Executes when the response is available\n",
    "```\n",
    "\n",
    "In this example, the `await` keyword is used to initiate an asynchronous operation. The program does not block while waiting for the network request to complete. Instead, it continues executing other tasks concurrently. When the response is received, the `process_response` function is executed.\n",
    "\n",
    "Asynchronous programming typically relies on features like callbacks, promises, or `async/await` syntax to handle the coordination and synchronization of tasks. It allows for better responsiveness and scalability, especially in scenarios where there are many I/O-bound operations or when parallelism is required.\n",
    "\n",
    "In summary, synchronous programming executes tasks sequentially and blocks the program until each task completes, while asynchronous programming allows tasks to execute concurrently and does not block the program, enabling it to perform other operations while waiting for a task to complete."
   ]
  },
  {
   "cell_type": "markdown",
   "id": "9e9267e0-4274-4077-96be-32b8b6b82e8b",
   "metadata": {},
   "source": [
    "### I/O-bound Vs. CPU-bound operations\n",
    "\n",
    "1. **I/O-bound operation**:\n",
    "An I/O-bound operation refers to a type of task or operation that primarily involves input/output (I/O) operations, such as reading from or writing to a file, accessing a database, making network requests, or interacting with peripheral devices. These operations typically involve waiting for external resources to respond or retrieve data, which can be relatively slow compared to the speed of a computer's CPU.\n",
    "\n",
    "    I/O-bound operations are characterized by the fact that the majority of the time spent on these operations is waiting for the I/O to complete, rather than performing computations or processing data. This means that the overall performance of the task is limited by the speed of the I/O operations rather than the processing power of the CPU.\n",
    "\n",
    "Here' an example of an I/O-bound operation:\n",
    "```python\n",
    "import requests\n",
    "response = requests.get('https://github.com/') # I/O-bound operation\n",
    "print(response.status_code)\n",
    "```\n",
    "\n",
    "The code uses the `requests` library in Python to send an HTTP GET request to the GitHub homepage (https://github.com/). The `requests.get` function initiates the request and waits for the response from the server.\n",
    "\n",
    "During the execution of `requests.get`, an I/O operation occurs as the code sends the request over the network to the GitHub server and waits for the server to respond. This process involves reading data from the network and is considered an I/O operation.\n",
    "\n",
    "3. **CPU-bound operation**:\n",
    "A CPU-bound operation refers to a type of task or operation that primarily relies on the processing power of the CPU (Central Processing Unit). These operations involve intensive computations, algorithms, or data processing that require significant CPU resources to complete.\n",
    "\n",
    "    Unlike I/O-bound operations that are mainly limited by the speed of input/output operations, CPU-bound operations are constrained by the processing capabilities of the CPU itself. The performance of CPU-bound tasks is determined by factors such as the clock speed, number of cores, and efficiency of the CPU.\n",
    "\n",
    "Here' an example of a CPU-bound operation:\n",
    "```python\n",
    "def fibonacci(n):\n",
    "    if n <= 1:\n",
    "        return n\n",
    "    else:\n",
    "        return fibonacci(n-1) + fibonacci(n-2)\n",
    "\n",
    "result = fibonacci(32) # CPU-bound operation\n",
    "print(result)\n",
    "```\n",
    "\n",
    "In this example, the operation involves calculating the Fibonacci sequence recursively. The CPU is heavily involved in performing the computations, and the execution time depends on the complexity of the task."
   ]
  },
  {
   "cell_type": "code",
   "execution_count": 20,
   "id": "cd284c2c-e2f2-4eb0-ba3e-615117a1c52f",
   "metadata": {},
   "outputs": [
    {
     "name": "stdout",
     "output_type": "stream",
     "text": [
      "The slowest run took 6.44 times longer than the fastest. This could mean that an intermediate result is being cached.\n",
      "1.81 s ± 1.31 s per loop (mean ± std. dev. of 7 runs, 1 loop each)\n"
     ]
    }
   ],
   "source": [
    "%%timeit\n",
    "import requests\n",
    "response = requests.get('https://github.com/') # I/O-bound operation"
   ]
  },
  {
   "cell_type": "code",
   "execution_count": 21,
   "id": "8008833f-7d1a-47cb-898e-e932dee6f821",
   "metadata": {},
   "outputs": [
    {
     "name": "stdout",
     "output_type": "stream",
     "text": [
      "319 ms ± 3.74 ms per loop (mean ± std. dev. of 7 runs, 1 loop each)\n"
     ]
    }
   ],
   "source": [
    "%%timeit\n",
    "def fibonacci(n):\n",
    "    if n <= 1:\n",
    "        return n\n",
    "    else:\n",
    "        return fibonacci(n-1) + fibonacci(n-2)\n",
    "\n",
    "result = fibonacci(32)"
   ]
  },
  {
   "cell_type": "markdown",
   "id": "ce307ac1-117e-4838-9c34-4966e274b329",
   "metadata": {},
   "source": [
    "> **Note:** In Jupyter Notebook, the `%%timeit` magic command is used to measure the execution time of a code cell or a specific code snippet. It provides an easy way to quickly evaluate the performance of code by running it multiple times and calculating the average execution time."
   ]
  },
  {
   "cell_type": "markdown",
   "id": "8c998f10-3fde-4aca-9860-bbf77ef969a1",
   "metadata": {},
   "source": [
    "### Process\n",
    "\n",
    "A process refers to an application that operates within its own isolated memory space, inaccessible to other applications. For instance, launching a basic “hello world” program or starting the Python REPL (read eval print loop) by typing 'python' in the command line represents the creation of a Python process.\n",
    "\n",
    "It is possible to run numerous processes on a single machine. In cases where the machine's CPU possesses multiple cores, multiple processes can be executed simultaneously. Even on a CPU with only one core, it is still feasible to have multiple applications operating concurrently through a technique known as time slicing.\n",
    "\n",
    "<img src=\"./pics/process.svg\" alt=\"Process\" width=\"300\" height=\"200\">"
   ]
  },
  {
   "cell_type": "markdown",
   "id": "761370ae-5f95-4c39-936c-83f33d35d3b8",
   "metadata": {},
   "source": [
    "### Thread\n",
    "\n",
    "A thread is a basic unit of execution within a process. A thread is a smaller unit within that process that can execute instructions independently.\n",
    "Threads can be considered lightweight versions of processes and are the smallest units managed by an operating system. Unlike processes, they don't have their own separate memory, but rather share the memory of the parent process that spawned them. Threads are associated with the process that created them, and every process has at least one thread, called the main thread. Additional threads, often referred to as worker or background threads, can be created by the process to perform concurrent tasks alongside the main thread. Similar to processes, threads can run simultaneously on multicore CPUs.\n",
    "\n",
    "\n",
    "<img src=\"./pics/process_and_threads.svg\" alt=\"Alt Text\" width=\"300\" height=\"200\">"
   ]
  },
  {
   "cell_type": "markdown",
   "id": "ae1a8f1b-93a8-4694-9d08-d056b0e60671",
   "metadata": {},
   "source": [
    "### Extra curriculum:\n",
    "\n",
    "1. [Concurrency is not Parallelism by Rob Pike](https://www.youtube.com/watch?v=oV9rvDllKEg)\n",
    "2. [You're the OS!](https://github.com/plbrault/youre-the-os)\n",
    "3. [Putting the “You” in CPU](https://cpu.land)"
   ]
  }
 ],
 "metadata": {
  "kernelspec": {
   "display_name": "Python 3 (ipykernel)",
   "language": "python",
   "name": "python3"
  },
  "language_info": {
   "codemirror_mode": {
    "name": "ipython",
    "version": 3
   },
   "file_extension": ".py",
   "mimetype": "text/x-python",
   "name": "python",
   "nbconvert_exporter": "python",
   "pygments_lexer": "ipython3",
   "version": "3.11.4"
  }
 },
 "nbformat": 4,
 "nbformat_minor": 5
}
