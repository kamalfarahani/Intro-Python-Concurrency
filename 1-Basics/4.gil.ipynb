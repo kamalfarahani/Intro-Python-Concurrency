{
 "cells": [
  {
   "cell_type": "markdown",
   "id": "3fdeb0d3-1d26-4c1f-ba39-9c11944761fe",
   "metadata": {},
   "source": [
    "## The evil GIL 😈🔒\n",
    "\n",
    "GIL stands for Global Interpreter Lock. It is a mechanism used in the CPython implementation of Python, which is the reference implementation and the most widely used one. The purpose of the GIL is to synchronize access to Python objects, preventing multiple native threads from executing Python bytecodes at once. \n",
    "\n",
    "In Python, when multiple threads are used in a program, the GIL ensures that **only one thread executes Python bytecodes at any given time, even on multi-core systems**. This means that although you can have multiple threads in a Python program, they won't run in parallel and **cannot take full advantage of multiple CPU cores for CPU-bound tasks**.\n",
    "\n",
    "The reason the GIL exists is historical. It was introduced to simplify memory management in CPython and make it thread-safe by preventing concurrent access to Python objects, which can be challenging to manage without proper synchronization. By having a lock that allows only one thread to execute Python code at a time, CPython avoids many low-level thread safety issues.\n",
    "\n",
    "However, the GIL can have implications for performance in certain scenarios. Since only one thread can execute Python bytecodes at a time, it can limit the potential performance gains of using multiple threads for CPU-bound tasks. However, the GIL doesn't significantly impact performance when threads are primarily performing I/O-bound tasks or waiting for external resources.\n",
    "\n",
    "It's important to note that the GIL is specific to CPython. Other implementations of Python, such as Jython or IronPython, do not have a GIL and can take full advantage of multiple cores for parallel execution."
   ]
  },
  {
   "cell_type": "markdown",
   "id": "2906e4a3-d143-402e-934a-9f763e77d9cc",
   "metadata": {},
   "source": [
    "### An example\n",
    "\n",
    "Let's look at an example which explains the effect of GIL in Python programs, consider the following code:"
   ]
  },
  {
   "cell_type": "code",
   "execution_count": 12,
   "id": "a526d3a8-4637-4150-ac6f-83cc7991e781",
   "metadata": {},
   "outputs": [
    {
     "name": "stdout",
     "output_type": "stream",
     "text": [
      "3.05 s ± 35.4 ms per loop (mean ± std. dev. of 7 runs, 1 loop each)\n"
     ]
    }
   ],
   "source": [
    "%%timeit\n",
    "\n",
    "import time\n",
    "import threading\n",
    "\n",
    "\n",
    "def fibonacci(n):\n",
    "    if n <= 1:\n",
    "        return n\n",
    "    else:\n",
    "        return fibonacci(n-1) + fibonacci(n-2)\n",
    "\n",
    "\n",
    "fibonacci(31)\n",
    "fibonacci(32)\n",
    "fibonacci(33)"
   ]
  },
  {
   "cell_type": "markdown",
   "id": "5a7e3645-f383-4299-b939-4d5b950b8ee3",
   "metadata": {},
   "source": [
    "Let's now rewrite it using `threading` module to see if it takes less time:"
   ]
  },
  {
   "cell_type": "code",
   "execution_count": 13,
   "id": "1a0f0f56-dd20-48d1-aadf-3754f45a1e29",
   "metadata": {},
   "outputs": [
    {
     "name": "stdout",
     "output_type": "stream",
     "text": [
      "4.01 s ± 196 ms per loop (mean ± std. dev. of 7 runs, 1 loop each)\n"
     ]
    }
   ],
   "source": [
    "%%timeit\n",
    "\n",
    "import time\n",
    "import threading\n",
    "\n",
    "\n",
    "def fibonacci(n):\n",
    "    if n <= 1:\n",
    "        return n\n",
    "    else:\n",
    "        return fibonacci(n-1) + fibonacci(n-2)\n",
    "\n",
    "\n",
    "thread_1 = threading.Thread(target=fibonacci, args=(31,))\n",
    "thread_2 = threading.Thread(target=fibonacci, args=(32,))\n",
    "thread_3 = threading.Thread(target=fibonacci, args=(33,))\n",
    "\n",
    "thread_1.start()\n",
    "thread_2.start()\n",
    "thread_3.start()\n",
    "\n",
    "thread_1.join()\n",
    "thread_2.join()\n",
    "thread_3.join()"
   ]
  },
  {
   "cell_type": "markdown",
   "id": "1b732519-e0fb-46e3-a1e3-3276be86056a",
   "metadata": {},
   "source": [
    "This code takes more time than the non-threading code because of the Global Interpreter Lock (GIL) in CPython, The GIL prevents multiple threads from executing Python bytecodes in parallel. Consequently, even though we have multiple threads in our code, they cannot fully utilize multiple CPU cores for CPU-bound tasks.\n",
    "\n",
    "In fact, in this specific case, the threaded version takes longer to execute due to the additional overhead of thread creation and switching."
   ]
  },
  {
   "cell_type": "markdown",
   "id": "cf6b0393-e383-4817-a0db-cbfe4cf726a6",
   "metadata": {},
   "source": [
    "> It's important to understand that when using the `multiprocessing` module in Python, we can take advantage of parallel execution since each process operates independently with its own Global Interpreter Lock (GIL)."
   ]
  },
  {
   "cell_type": "code",
   "execution_count": 14,
   "id": "acbce9a5-d077-4507-a7fb-e549a697c37f",
   "metadata": {},
   "outputs": [
    {
     "name": "stdout",
     "output_type": "stream",
     "text": [
      "1.79 s ± 36.3 ms per loop (mean ± std. dev. of 7 runs, 1 loop each)\n"
     ]
    }
   ],
   "source": [
    "%%timeit\n",
    "\n",
    "import time\n",
    "import multiprocessing\n",
    "\n",
    "\n",
    "def fibonacci(n):\n",
    "    if n <= 1:\n",
    "        return n\n",
    "    else:\n",
    "        return fibonacci(n-1) + fibonacci(n-2)\n",
    "\n",
    "\n",
    "process_1 = multiprocessing.Process(target=fibonacci, args=(31,))\n",
    "process_2 = multiprocessing.Process(target=fibonacci, args=(32,))\n",
    "process_3 = multiprocessing.Process(target=fibonacci, args=(33,))\n",
    "\n",
    "process_1.start()\n",
    "process_2.start()\n",
    "process_3.start()\n",
    "\n",
    "process_1.join()\n",
    "process_2.join()\n",
    "process_3.join()"
   ]
  },
  {
   "cell_type": "markdown",
   "id": "f90e5732-2283-406a-8a14-43ce14ebf2da",
   "metadata": {},
   "source": [
    "### GIL and I/O-bound tasks\n",
    "\n",
    "The GIL is primarily a concern in CPU-bound tasks where the execution is dominated by Python bytecode, such as computational tasks involving heavy calculations. In such cases, the GIL can limit the potential performance gains from using multiple threads or processes.\n",
    "\n",
    "**However, in I/O-bound tasks, where a significant amount of time is spent waiting for input/output operations to complete, the GIL is less of a bottleneck**. When performing I/O operations like reading from or writing to a file, making network requests, or interacting with a database, **the GIL is often released by the underlying system calls**. This allows other threads or processes to execute Python code while the I/O operation is in progress. Therefore, the GIL has a smaller impact on the overall performance of I/O-bound tasks.\n",
    "\n",
    "In I/O-bound scenarios, leveraging multiple threads or processes can still provide benefits. For example, while one thread is waiting for an I/O operation to complete, other threads can continue executing Python code, making progress on other tasks. This can lead to improved overall throughput and responsiveness, even though each individual thread may not be able to fully utilize the CPU due to the GIL.\n",
    "\n",
    "In summary, the GIL is less of a concern in I/O-bound tasks because it is often released during I/O operations, allowing other threads or processes to execute Python code. This makes it possible to leverage parallelism effectively in I/O-bound scenarios, leading to improved performance and responsiveness."
   ]
  },
  {
   "cell_type": "markdown",
   "id": "bc2b5b3c-0160-4280-a301-119c00639fe2",
   "metadata": {},
   "source": [
    "#### Example: Reading a web page\n",
    "\n",
    "Consider the following code, in which we send a request to read a web page:"
   ]
  },
  {
   "cell_type": "code",
   "execution_count": 21,
   "id": "bb3da077-05c9-4bec-8bc4-354e1da0df39",
   "metadata": {},
   "outputs": [
    {
     "name": "stdout",
     "output_type": "stream",
     "text": [
      "4.14 s ± 221 ms per loop (mean ± std. dev. of 7 runs, 1 loop each)\n"
     ]
    }
   ],
   "source": [
    "%%timeit\n",
    "\n",
    "import requests\n",
    "\n",
    "\n",
    "def read_page(address: str) -> None:\n",
    "    response = requests.get(address)\n",
    "\n",
    "\n",
    "read_page('https://github.com')\n",
    "read_page('https://google.com')\n",
    "read_page('https://python.org')"
   ]
  },
  {
   "cell_type": "markdown",
   "id": "36b28b62-475e-4661-893b-a339f35d5bae",
   "metadata": {},
   "source": [
    "Let's now rewrite it using `threading` module to see if it takes less time:"
   ]
  },
  {
   "cell_type": "code",
   "execution_count": 22,
   "id": "cbccf405-330a-4cee-a7e5-bb15cc2de1ef",
   "metadata": {},
   "outputs": [
    {
     "name": "stdout",
     "output_type": "stream",
     "text": [
      "1.63 s ± 64.8 ms per loop (mean ± std. dev. of 7 runs, 1 loop each)\n"
     ]
    }
   ],
   "source": [
    "%%timeit\n",
    "\n",
    "import requests\n",
    "import threading\n",
    "\n",
    "\n",
    "def read_page(address: str) -> None:\n",
    "    response = requests.get(address)\n",
    "\n",
    "\n",
    "thread_1 = threading.Thread(target=read_page, args=('https://github.com',))\n",
    "thread_2 = threading.Thread(target=read_page, args=('https://google.com',))\n",
    "thread_3 = threading.Thread(target=read_page, args=('https://python.org',))\n",
    "\n",
    "thread_1.start()\n",
    "thread_2.start()\n",
    "\n",
    "thread_1.join()\n",
    "thread_2.join()"
   ]
  },
  {
   "cell_type": "markdown",
   "id": "6495ac01-898f-4c12-bac5-676640b2a45f",
   "metadata": {},
   "source": [
    "Now we can see that in this case we had a significant performance boost.\n",
    "\n",
    "By observing this example, we can gain an understanding of how designing concurrent programs in Python can enhance performance, even considering the presence of the Global Interpreter Lock (GIL) in the CPython implementation."
   ]
  },
  {
   "cell_type": "markdown",
   "id": "1c16fa70-41a4-414e-bbe0-ec3872d17d28",
   "metadata": {},
   "source": [
    "<img src=\"./pics/gil.png\" alt=\"io-bound-tasks\" width=\"700\" height=\"400\">"
   ]
  }
 ],
 "metadata": {
  "kernelspec": {
   "display_name": "Python 3 (ipykernel)",
   "language": "python",
   "name": "python3"
  },
  "language_info": {
   "codemirror_mode": {
    "name": "ipython",
    "version": 3
   },
   "file_extension": ".py",
   "mimetype": "text/x-python",
   "name": "python",
   "nbconvert_exporter": "python",
   "pygments_lexer": "ipython3",
   "version": "3.11.4"
  }
 },
 "nbformat": 4,
 "nbformat_minor": 5
}
